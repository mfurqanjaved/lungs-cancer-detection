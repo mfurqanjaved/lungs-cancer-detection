{
  "nbformat": 4,
  "nbformat_minor": 0,
  "metadata": {
    "colab": {
      "provenance": [],
      "gpuType": "T4"
    },
    "kernelspec": {
      "name": "python3",
      "display_name": "Python 3"
    },
    "language_info": {
      "name": "python"
    },
    "accelerator": "GPU",
    "gpuClass": "standard"
  },
  "cells": [
    {
      "cell_type": "code",
      "source": [
        "# from google.colab import drive\n",
        "# drive.mount('/content/drive')"
      ],
      "metadata": {
        "colab": {
          "base_uri": "https://localhost:8080/"
        },
        "id": "pCwbrckBeA3F",
        "outputId": "ebf1cb70-c07a-4fad-d77c-28dfad9469a6"
      },
      "execution_count": null,
      "outputs": [
        {
          "output_type": "stream",
          "name": "stdout",
          "text": [
            "Drive already mounted at /content/drive; to attempt to forcibly remount, call drive.mount(\"/content/drive\", force_remount=True).\n"
          ]
        }
      ]
    },
    {
      "cell_type": "code",
      "source": [
        "dataset_dir = '/content/drive/MyDrive/The IQ-OTHNCCD lung cancer dataset'\n"
      ],
      "metadata": {
        "id": "AWFj0D1xbXV8"
      },
      "execution_count": null,
      "outputs": []
    },
    {
      "cell_type": "code",
      "source": [
        "import numpy as np"
      ],
      "metadata": {
        "id": "CVmWqJedbmyE"
      },
      "execution_count": null,
      "outputs": []
    },
    {
      "cell_type": "markdown",
      "source": [
        "\n",
        "\n",
        "* Defining the dimensions of the input images as image_width and image_height (both set to 224 pixels).\n",
        "\n",
        "* Specifying the batch size for loading the data as batch_size (set to 32).\n",
        "\n",
        "\n",
        "* Creating an ImageDataGenerator object datagen for data augmentation, which rescales the image pixel values to the range [0, 1].\n",
        "* Loading the data from the dataset directory using the flow_from_directory function of the datagen object. The images are resized to image_width and image_height, and the labels are encoded using one-hot categorical encoding.\n",
        "\n",
        "* Splitting the data into training and test sets using the train_test_split function from sklearn.model_selection. The test set size is set to 20% of the data, and a random state of 42 is used for reproducibility.\n",
        "\n",
        "\n",
        "\n",
        "\n",
        "\n",
        "\n",
        "\n"
      ],
      "metadata": {
        "id": "jqGxS4f2tY2j"
      }
    },
    {
      "cell_type": "code",
      "source": [
        "from keras.preprocessing.image import ImageDataGenerator\n",
        "from sklearn.model_selection import train_test_split\n",
        "\n",
        "# Set the dimensions of the input images\n",
        "image_width, image_height = 224, 224\n",
        "\n",
        "# Set batch size for loading the data\n",
        "batch_size = 32\n",
        "\n",
        "# Set the number of classes\n",
        "num_classes = 3\n",
        "\n",
        "# Data augmentation for images\n",
        "datagen = ImageDataGenerator(rescale=1./255)\n",
        "\n",
        "# Load the data from the dataset directory\n",
        "data_generator = datagen.flow_from_directory(\n",
        "    dataset_dir,\n",
        "    target_size=(image_width, image_height),\n",
        "    batch_size=batch_size,\n",
        "    class_mode='categorical',\n",
        "    shuffle=True\n",
        ")\n",
        "\n",
        "# Split the data into X and y\n",
        "X, y = [], []\n",
        "for i in range(len(data_generator)):\n",
        "    batch_X, batch_y = data_generator[i]\n",
        "    X.append(batch_X)\n",
        "    y.append(batch_y)\n",
        "\n",
        "# Concatenate the batches into a single array\n",
        "X = np.concatenate(X)\n",
        "y = np.concatenate(y)\n",
        "\n",
        "# Split the data into training and test sets\n",
        "X_train, X_test, y_train, y_test = train_test_split(X, y, test_size=0.2, random_state=42)\n",
        "\n",
        "# Print the shape of the training and test sets\n",
        "print(\"X_train shape:\", X_train.shape)\n",
        "print(\"y_train shape:\", y_train.shape)\n",
        "print(\"X_test shape:\", X_test.shape)\n",
        "print(\"y_test shape:\", y_test.shape)\n"
      ],
      "metadata": {
        "colab": {
          "base_uri": "https://localhost:8080/"
        },
        "id": "DNoMML5vbaBx",
        "outputId": "9bab159b-e631-4bf3-983c-4382b10936e5"
      },
      "execution_count": null,
      "outputs": [
        {
          "output_type": "stream",
          "name": "stdout",
          "text": [
            "Found 1104 images belonging to 4 classes.\n",
            "X_train shape: (883, 224, 224, 3)\n",
            "y_train shape: (883, 4)\n",
            "X_test shape: (221, 224, 224, 3)\n",
            "y_test shape: (221, 4)\n"
          ]
        }
      ]
    },
    {
      "cell_type": "markdown",
      "source": [
        "### Converting labels to one hot encoded vectors"
      ],
      "metadata": {
        "id": "MLQexTPBt3p7"
      }
    },
    {
      "cell_type": "code",
      "source": [
        "from keras.utils import to_categorical\n",
        "\n",
        "# Convert labels to one-hot encoded vectors\n",
        "y_train_encoded = to_categorical(y_train, num_classes)\n",
        "y_test_encoded = to_categorical(y_test, num_classes)\n"
      ],
      "metadata": {
        "id": "BlJLBT7XdSVu"
      },
      "execution_count": null,
      "outputs": []
    },
    {
      "cell_type": "markdown",
      "source": [
        "<span>We define a CNN model for multi-class classification. The model consists of convolutional and pooling layers followed by fully connected layers. We compile the model with the Adam optimizer, categorical cross-entropy loss function, and accuracy metric. Training the model on X_train and y_train for 10 epochs with a batch size of 32, we validate its performance on X_test and y_test. This code enables us to train and evaluate a CNN model for multi-class classification tasks on our dataset.<span>"
      ],
      "metadata": {
        "id": "u5WMTkAxuZU2"
      }
    },
    {
      "cell_type": "code",
      "source": [
        "\n",
        "from keras.models import Sequential\n",
        "from keras.layers import Conv2D, MaxPooling2D, Flatten, Dense\n",
        "from sklearn.metrics import classification_report, accuracy_score\n",
        "\n",
        "\n",
        "# Define the number of classes\n",
        "num_classes = 4\n",
        "# Define the CNN model\n",
        "cnn_model = Sequential()\n",
        "cnn_model.add(Conv2D(32, (3, 3), activation='relu', input_shape=(image_width, image_height, 3)))\n",
        "cnn_model.add(MaxPooling2D((2, 2)))\n",
        "cnn_model.add(Conv2D(64, (3, 3), activation='relu'))\n",
        "cnn_model.add(MaxPooling2D((2, 2)))\n",
        "cnn_model.add(Flatten())\n",
        "cnn_model.add(Dense(128, activation='relu'))\n",
        "cnn_model.add(Dense(num_classes, activation='softmax'))\n",
        "\n",
        "# Compile the model\n",
        "cnn_model.compile(optimizer='adam', loss='categorical_crossentropy', metrics=['accuracy'])\n",
        "\n",
        "# Train the model\n",
        "cnn_model.fit(X_train, y_train, epochs=10, batch_size=32, validation_data=(X_test, y_test))\n",
        "\n",
        "\n"
      ],
      "metadata": {
        "colab": {
          "base_uri": "https://localhost:8080/"
        },
        "id": "gdR8bINJblkr",
        "outputId": "5ae956da-0b93-4464-8652-a5ec6e5d9189"
      },
      "execution_count": null,
      "outputs": [
        {
          "output_type": "stream",
          "name": "stdout",
          "text": [
            "Epoch 1/10\n",
            "28/28 [==============================] - 4s 75ms/step - loss: 1.5313 - accuracy: 0.7429 - val_loss: 0.2577 - val_accuracy: 0.9050\n",
            "Epoch 2/10\n",
            "28/28 [==============================] - 1s 53ms/step - loss: 0.1344 - accuracy: 0.9581 - val_loss: 0.0510 - val_accuracy: 0.9864\n",
            "Epoch 3/10\n",
            "28/28 [==============================] - 1s 49ms/step - loss: 0.0372 - accuracy: 0.9887 - val_loss: 0.0256 - val_accuracy: 0.9910\n",
            "Epoch 4/10\n",
            "28/28 [==============================] - 1s 49ms/step - loss: 0.0361 - accuracy: 0.9943 - val_loss: 0.0252 - val_accuracy: 0.9910\n",
            "Epoch 5/10\n",
            "28/28 [==============================] - 1s 48ms/step - loss: 0.0099 - accuracy: 0.9966 - val_loss: 0.0230 - val_accuracy: 0.9910\n",
            "Epoch 6/10\n",
            "28/28 [==============================] - 2s 65ms/step - loss: 0.0031 - accuracy: 0.9989 - val_loss: 0.0050 - val_accuracy: 1.0000\n",
            "Epoch 7/10\n",
            "28/28 [==============================] - 1s 50ms/step - loss: 0.0051 - accuracy: 0.9977 - val_loss: 0.1056 - val_accuracy: 0.9729\n",
            "Epoch 8/10\n",
            "28/28 [==============================] - 1s 50ms/step - loss: 0.0268 - accuracy: 0.9955 - val_loss: 0.0151 - val_accuracy: 0.9955\n",
            "Epoch 9/10\n",
            "28/28 [==============================] - 1s 52ms/step - loss: 0.0066 - accuracy: 0.9977 - val_loss: 0.0272 - val_accuracy: 0.9955\n",
            "Epoch 10/10\n",
            "28/28 [==============================] - 2s 55ms/step - loss: 0.0258 - accuracy: 0.9921 - val_loss: 0.0149 - val_accuracy: 0.9955\n"
          ]
        },
        {
          "output_type": "execute_result",
          "data": {
            "text/plain": [
              "<keras.callbacks.History at 0x7ff160e70070>"
            ]
          },
          "metadata": {},
          "execution_count": 49
        }
      ]
    },
    {
      "cell_type": "code",
      "source": [
        "# Evaluate the model\n",
        "y_pred = cnn_model.predict(X_test)\n",
        "y_pred_labels = np.argmax(y_pred, axis=1)\n",
        "y_true_labels = np.argmax(y_test, axis=1)\n",
        "\n",
        "accuracy = accuracy_score(y_true_labels, y_pred_labels)\n",
        "classification_rep = classification_report(y_true_labels, y_pred_labels)\n",
        "print(\"Accuracy:\", accuracy)\n",
        "print(\"Classification Report:\\n\", classification_rep)"
      ],
      "metadata": {
        "colab": {
          "base_uri": "https://localhost:8080/"
        },
        "id": "w0C_PVqjljYi",
        "outputId": "db59d5a0-c96f-4103-954c-3138d796538b"
      },
      "execution_count": null,
      "outputs": [
        {
          "output_type": "stream",
          "name": "stdout",
          "text": [
            "7/7 [==============================] - 0s 17ms/step\n",
            "Accuracy: 0.995475113122172\n",
            "Classification Report:\n",
            "               precision    recall  f1-score   support\n",
            "\n",
            "           1       1.00      1.00      1.00        14\n",
            "           2       0.99      1.00      1.00       107\n",
            "           3       1.00      0.99      0.99       100\n",
            "\n",
            "    accuracy                           1.00       221\n",
            "   macro avg       1.00      1.00      1.00       221\n",
            "weighted avg       1.00      1.00      1.00       221\n",
            "\n"
          ]
        }
      ]
    },
    {
      "cell_type": "code",
      "source": [
        "import numpy as np\n",
        "import matplotlib.pyplot as plt\n",
        "import seaborn as sns\n",
        "from sklearn.metrics import confusion_matrix\n",
        "\n",
        "# Make predictions on the test data\n",
        "y_pred = cnn_model.predict(X_test)\n",
        "y_pred_labels = np.argmax(y_pred, axis=1)\n",
        "y_true_labels = np.argmax(y_test, axis=1)\n",
        "\n",
        "# Compute the confusion matrix\n",
        "cm = confusion_matrix(y_true_labels, y_pred_labels)\n",
        "\n",
        "# Plot the confusion matrix\n",
        "plt.figure(figsize=(8, 6))\n",
        "sns.heatmap(cm, annot=True, fmt='d', cmap='Blues')\n",
        "plt.title('Confusion Matrix - CNN')\n",
        "plt.xlabel('Predicted Labels')\n",
        "plt.ylabel('True Labels')\n",
        "plt.show()"
      ],
      "metadata": {
        "colab": {
          "base_uri": "https://localhost:8080/",
          "height": 581
        },
        "id": "XaDDO6Dm75_r",
        "outputId": "613ae038-879f-4c30-a8a4-e9961ee31232"
      },
      "execution_count": null,
      "outputs": [
        {
          "output_type": "stream",
          "name": "stdout",
          "text": [
            "7/7 [==============================] - 0s 26ms/step\n"
          ]
        },
        {
          "output_type": "display_data",
          "data": {
            "text/plain": [
              "<Figure size 800x600 with 2 Axes>"
            ],
            "image/png": "[encoded data removed]"
          },
          "metadata": {}
        }
      ]
    },
    {
      "cell_type": "markdown",
      "source": [
        "##Resnet 50\n"
      ],
      "metadata": {
        "id": "6EemCVQa-ZP8"
      }
    },
    {
      "cell_type": "markdown",
      "source": [
        "<span>We load the ResNet-50 model pretrained on the ImageNet dataset and remove its top layers. Custom layers are added, including a global average pooling layer, a dense layer with 128 units, and a final dense layer for class predictions. The model is compiled with SGD optimizer, categorical cross-entropy loss, and accuracy metric. Training the model on X_train and y_train for 10 epochs with a batch size of 32, we evaluate its performance on X_test and y_test. This code enables us to fine-tune the ResNet-50 model for multi-class classification on our dataset, leveraging its pre-trained features for improved accuracy and efficiency.<span>"
      ],
      "metadata": {
        "id": "9j3ipfrPu-gN"
      }
    },
    {
      "cell_type": "code",
      "source": [
        "\n",
        "from keras.applications import ResNet50\n",
        "from keras.optimizers import SGD\n",
        "num_classes = 4 \n",
        "\n",
        "# Load the ResNet-50 model\n",
        "base_model = ResNet50(weights='imagenet', include_top=False, input_shape=(image_width, image_height, 3))\n",
        "\n",
        "# Add custom layers on top of the base model\n",
        "x = base_model.output\n",
        "x = GlobalAveragePooling2D()(x)\n",
        "x = Dense(128, activation='relu')(x)\n",
        "predictions = Dense(num_classes, activation='softmax')(x)\n",
        "\n",
        "# Create the model\n",
        "renset_model = Model(inputs=base_model.input, outputs=predictions)\n",
        "\n",
        "# Compile the model\n",
        "renset_model.compile(optimizer=SGD(), loss='categorical_crossentropy', metrics=['accuracy'])\n",
        "\n",
        "# Train the model\n",
        "renset_model.fit(X_train, y_train, epochs=10, batch_size=32, validation_data=(X_test, y_test))\n",
        "\n",
        "\n"
      ],
      "metadata": {
        "colab": {
          "base_uri": "https://localhost:8080/"
        },
        "id": "yPZJ1jMEeI9_",
        "outputId": "78bbd79e-f864-4665-8a2a-0220ccf82d63"
      },
      "execution_count": null,
      "outputs": [
        {
          "output_type": "stream",
          "name": "stdout",
          "text": [
            "Epoch 1/10\n",
            "28/28 [==============================] - 16s 410ms/step - loss: 0.4712 - accuracy: 0.8313 - val_loss: 1.3484 - val_accuracy: 0.4163\n",
            "Epoch 2/10\n",
            "28/28 [==============================] - 10s 355ms/step - loss: 0.0920 - accuracy: 0.9819 - val_loss: 1.3071 - val_accuracy: 0.4842\n",
            "Epoch 3/10\n",
            "28/28 [==============================] - 10s 361ms/step - loss: 0.0319 - accuracy: 0.9977 - val_loss: 1.2093 - val_accuracy: 0.4842\n",
            "Epoch 4/10\n",
            "28/28 [==============================] - 10s 341ms/step - loss: 0.0175 - accuracy: 1.0000 - val_loss: 1.2174 - val_accuracy: 0.4842\n",
            "Epoch 5/10\n",
            "28/28 [==============================] - 10s 360ms/step - loss: 0.0153 - accuracy: 1.0000 - val_loss: 1.2845 - val_accuracy: 0.4842\n",
            "Epoch 6/10\n",
            "28/28 [==============================] - 9s 334ms/step - loss: 0.0115 - accuracy: 0.9989 - val_loss: 1.3257 - val_accuracy: 0.4842\n",
            "Epoch 7/10\n",
            "28/28 [==============================] - 10s 354ms/step - loss: 0.0088 - accuracy: 0.9989 - val_loss: 1.5690 - val_accuracy: 0.4842\n",
            "Epoch 8/10\n",
            "28/28 [==============================] - 9s 330ms/step - loss: 0.0082 - accuracy: 1.0000 - val_loss: 1.6175 - val_accuracy: 0.4842\n",
            "Epoch 9/10\n",
            "28/28 [==============================] - 10s 354ms/step - loss: 0.0043 - accuracy: 1.0000 - val_loss: 1.7182 - val_accuracy: 0.4842\n",
            "Epoch 10/10\n",
            "28/28 [==============================] - 10s 355ms/step - loss: 0.0049 - accuracy: 1.0000 - val_loss: 1.8721 - val_accuracy: 0.4842\n"
          ]
        },
        {
          "output_type": "execute_result",
          "data": {
            "text/plain": [
              "<keras.callbacks.History at 0x7ff16edc3e80>"
            ]
          },
          "metadata": {},
          "execution_count": 111
        }
      ]
    },
    {
      "cell_type": "code",
      "source": [
        "# Evaluate the model\n",
        "y_pred_resnet = renset_model.predict(X_test)\n",
        "y_pred_labels_resnet = np.argmax(y_pred_resnet, axis=1)\n",
        "y_true_labels_resnet = np.argmax(y_test, axis=1)\n",
        "\n",
        "accuracy = accuracy_score(y_true_labels_resnet, y_pred_labels_resnet)\n",
        "precision = precision_score(y_true_labels_resnet, y_pred_labels_resnet, average='weighted')\n",
        "recall = recall_score(y_true_labels_resnet, y_pred_labels_resnet, average='weighted')\n",
        "f1 = f1_score(y_true_labels_resnet, y_pred_labels_resnet, average='weighted')\n",
        "\n",
        "print(\"Accuracy:\", accuracy)\n",
        "print(\"Precision:\", precision)\n",
        "print(\"Recall:\", recall)\n",
        "print(\"F1-score:\", f1)"
      ],
      "metadata": {
        "colab": {
          "base_uri": "https://localhost:8080/"
        },
        "id": "KB9HlsNf8PIe",
        "outputId": "b38b0bf7-8e37-4a08-cae1-c8557062535c"
      },
      "execution_count": null,
      "outputs": [
        {
          "output_type": "stream",
          "name": "stdout",
          "text": [
            "7/7 [==============================] - 1s 101ms/step\n",
            "Accuracy: 0.4841628959276018\n",
            "Precision: 0.23441370979300177\n",
            "Recall: 0.4841628959276018\n",
            "F1-score: 0.31588676746495975\n"
          ]
        },
        {
          "output_type": "stream",
          "name": "stderr",
          "text": [
            "/usr/local/lib/python3.10/dist-packages/sklearn/metrics/_classification.py:1344: UndefinedMetricWarning: Precision is ill-defined and being set to 0.0 in labels with no predicted samples. Use `zero_division` parameter to control this behavior.\n",
            "  _warn_prf(average, modifier, msg_start, len(result))\n"
          ]
        }
      ]
    },
    {
      "cell_type": "code",
      "source": [
        "\n",
        "# Compute the confusion matrix\n",
        "cm = confusion_matrix(y_true_labels_resnet, y_pred_labels_resnet)\n",
        "\n",
        "# Plot the confusion matrix\n",
        "plt.figure(figsize=(8, 6))\n",
        "sns.heatmap(cm, annot=True, fmt='d', cmap='Blues')\n",
        "plt.title('Confusion Matrix - Resnet')\n",
        "plt.xlabel('Predicted Labels')\n",
        "plt.ylabel('True Labels')\n",
        "plt.show()\n"
      ],
      "metadata": {
        "colab": {
          "base_uri": "https://localhost:8080/",
          "height": 564
        },
        "id": "o21JlaF98FpM",
        "outputId": "6dbe7050-41bd-4ed4-db9c-db0ce88e3107"
      },
      "execution_count": null,
      "outputs": [
        {
          "output_type": "display_data",
          "data": {
            "text/plain": [
              "<Figure size 800x600 with 2 Axes>"
            ],
            "image/png": "[encoded data removed]"
          },
          "metadata": {}
        }
      ]
    },
    {
      "cell_type": "markdown",
      "source": [
        "## vgg"
      ],
      "metadata": {
        "id": "0Z9ZB2gU8xk4"
      }
    },
    {
      "cell_type": "markdown",
      "source": [
        "\n",
        "This code loads the VGG-16 model pre-trained on ImageNet and removes its top layers. Custom layers, including global average pooling and dense layers, are added for classification. The model is compiled with Adam optimizer, categorical cross-entropy loss, and accuracy metric. Training the model on X_train and y_train for 10 epochs with a batch size of 32, we evaluate its performance on X_test and y_test. By fine-tuning the VGG-16 model on our dataset, we can leverage its pre-trained features to achieve better accuracy and efficiency in multi-class classification tasks."
      ],
      "metadata": {
        "id": "wIgbgjqfvORv"
      }
    },
    {
      "cell_type": "code",
      "source": [
        "\n",
        "from keras.applications import VGG16\n",
        "# Load the VGG-16 model\n",
        "base_model = VGG16(weights='imagenet', include_top=False, input_shape=(image_width, image_height, 3))\n",
        "\n",
        "# Add custom layers on top of the base model\n",
        "x = base_model.output\n",
        "x = GlobalAveragePooling2D()(x)\n",
        "x = Dense(128, activation='relu')(x)\n",
        "predictions = Dense(num_classes, activation='softmax')(x)\n",
        "\n",
        "# Create the model\n",
        "vgg_model = Model(inputs=base_model.input, outputs=predictions)\n",
        "\n",
        "# Compile the model\n",
        "vgg_model.compile(optimizer=Adam(), loss='categorical_crossentropy', metrics=['accuracy'])\n",
        "\n",
        "# Train the model\n",
        "vgg_model.fit(X_train, y_train, epochs=10, batch_size=32, validation_data=(X_test, y_test))\n",
        "\n",
        "\n"
      ],
      "metadata": {
        "colab": {
          "base_uri": "https://localhost:8080/"
        },
        "id": "xVsta0wmiq-K",
        "outputId": "60782661-722a-45ac-f6c6-4653edc7970f"
      },
      "execution_count": null,
      "outputs": [
        {
          "output_type": "stream",
          "name": "stdout",
          "text": [
            "Epoch 1/10\n",
            "28/28 [==============================] - 13s 418ms/step - loss: 1.3786 - accuracy: 0.4870 - val_loss: 0.9257 - val_accuracy: 0.4525\n",
            "Epoch 2/10\n",
            "28/28 [==============================] - 11s 399ms/step - loss: 0.9755 - accuracy: 0.5210 - val_loss: 0.9362 - val_accuracy: 0.4842\n",
            "Epoch 3/10\n",
            "28/28 [==============================] - 12s 423ms/step - loss: 0.9710 - accuracy: 0.5085 - val_loss: 0.9281 - val_accuracy: 0.4842\n",
            "Epoch 4/10\n",
            "28/28 [==============================] - 11s 409ms/step - loss: 0.9777 - accuracy: 0.4983 - val_loss: 0.9051 - val_accuracy: 0.4842\n",
            "Epoch 5/10\n",
            "28/28 [==============================] - 12s 433ms/step - loss: 0.9627 - accuracy: 0.5096 - val_loss: 0.9040 - val_accuracy: 0.4842\n",
            "Epoch 6/10\n",
            "28/28 [==============================] - 12s 421ms/step - loss: 0.9768 - accuracy: 0.4870 - val_loss: 0.9368 - val_accuracy: 0.4842\n",
            "Epoch 7/10\n",
            "28/28 [==============================] - 12s 433ms/step - loss: 0.9734 - accuracy: 0.5221 - val_loss: 0.9232 - val_accuracy: 0.4842\n",
            "Epoch 8/10\n",
            "28/28 [==============================] - 12s 414ms/step - loss: 0.9728 - accuracy: 0.5221 - val_loss: 0.9153 - val_accuracy: 0.4842\n",
            "Epoch 9/10\n",
            "28/28 [==============================] - 12s 428ms/step - loss: 0.9686 - accuracy: 0.5221 - val_loss: 0.9135 - val_accuracy: 0.4842\n",
            "Epoch 10/10\n",
            "28/28 [==============================] - 12s 428ms/step - loss: 0.9718 - accuracy: 0.5221 - val_loss: 0.9206 - val_accuracy: 0.4842\n"
          ]
        },
        {
          "output_type": "execute_result",
          "data": {
            "text/plain": [
              "<keras.callbacks.History at 0x7ff0f4639990>"
            ]
          },
          "metadata": {},
          "execution_count": 52
        }
      ]
    },
    {
      "cell_type": "code",
      "source": [
        "# Evaluate the model\n",
        "y_pred_vgg = vgg_model.predict(X_test)\n",
        "y_pred_labels_vgg = np.argmax(y_pred_vgg, axis=1)\n",
        "y_true_labels_vgg = np.argmax(y_test, axis=1)\n",
        "\n",
        "accuracy = accuracy_score(y_true_labels_vgg, y_pred_labels_vgg)\n",
        "precision = precision_score(y_true_labels_vgg, y_pred_labels_vgg, average='weighted')\n",
        "recall = recall_score(y_true_labels_vgg, y_pred_labels_vgg, average='weighted')\n",
        "f1 = f1_score(y_true_labels_vgg, y_pred_labels_vgg, average='weighted')\n",
        "\n",
        "print(\"Accuracy:\", accuracy)\n",
        "print(\"Precision:\", precision)\n",
        "print(\"Recall:\", recall)\n",
        "print(\"F1-score:\", f1)"
      ],
      "metadata": {
        "colab": {
          "base_uri": "https://localhost:8080/"
        },
        "id": "QCvQVCNriv6i",
        "outputId": "fa380b12-bc4e-4d18-e17b-e2494e828bc5"
      },
      "execution_count": null,
      "outputs": [
        {
          "output_type": "stream",
          "name": "stdout",
          "text": [
            "7/7 [==============================] - 1s 125ms/step\n",
            "Accuracy: 0.4841628959276018\n",
            "Precision: 0.23441370979300177\n",
            "Recall: 0.4841628959276018\n",
            "F1-score: 0.31588676746495975\n"
          ]
        },
        {
          "output_type": "stream",
          "name": "stderr",
          "text": [
            "/usr/local/lib/python3.10/dist-packages/sklearn/metrics/_classification.py:1344: UndefinedMetricWarning: Precision is ill-defined and being set to 0.0 in labels with no predicted samples. Use `zero_division` parameter to control this behavior.\n",
            "  _warn_prf(average, modifier, msg_start, len(result))\n"
          ]
        }
      ]
    },
    {
      "cell_type": "code",
      "source": [
        "# Compute the confusion matrix\n",
        "cm = confusion_matrix(y_true_labels_vgg, y_pred_labels_vgg)\n",
        "\n",
        "# Plot the confusion matrix\n",
        "plt.figure(figsize=(8, 6))\n",
        "sns.heatmap(cm, annot=True, fmt='d', cmap='Blues')\n",
        "plt.title('Confusion Matrix - VGG16')\n",
        "plt.xlabel('Predicted Labels')\n",
        "plt.ylabel('True Labels')\n",
        "plt.show()"
      ],
      "metadata": {
        "colab": {
          "base_uri": "https://localhost:8080/",
          "height": 564
        },
        "id": "D8xsj7TF9Xyb",
        "outputId": "223dce2b-a740-4615-d515-77bf904a29cd"
      },
      "execution_count": null,
      "outputs": [
        {
          "output_type": "display_data",
          "data": {
            "text/plain": [
              "<Figure size 800x600 with 2 Axes>"
            ],
            "image/png": "[encoded data removed]"
          },
          "metadata": {}
        }
      ]
    },
    {
      "cell_type": "code",
      "source": [
        "cnn_model.save('cnn_model.h5')\n",
        "resnet_model.save('resnet_model.h5')\n",
        "vgg_model.save('vgg_model.h5')"
      ],
      "metadata": {
        "id": "lyUD0cd8kQRT"
      },
      "execution_count": null,
      "outputs": []
    },
    {
      "cell_type": "markdown",
      "source": [
        "This code loads three saved models: cnn_model, resnet_model, and vgg_model. A list called bnn_models is created to store these models. The code then performs bootstrap sampling on the training data and randomly selects one of the models for each iteration. Predictions are made on the test data using the selected model, and the results are stored in ensemble_predictions. Finally, majority voting is applied to determine the final prediction for each test sample. This code demonstrates an ensemble method called bootstrap aggregation (bagging) to combine predictions from multiple models and improve the accuracy and robustness of the classification task."
      ],
      "metadata": {
        "id": "XLX6ejEHvgEJ"
      }
    },
    {
      "cell_type": "code",
      "source": [
        "\n",
        "from sklearn.utils import resample\n",
        "from keras.models import load_model\n",
        "\n",
        "# Define the number of bootstrap models\n",
        "num_models = 3\n",
        "\n",
        "# Define the paths to the saved models\n",
        "cnn_model_path = '/content/cnn_model.h5'\n",
        "resnet_model_path = '/content/resnet_model.h5'\n",
        "vgg_model_path = '/content/vgg_model.h5'\n",
        "\n",
        "# Load the saved models\n",
        "cnn_model = load_model(cnn_model_path)\n",
        "resnet_model = load_model(resnet_model_path)\n",
        "vgg_model = load_model(vgg_model_path)\n",
        "\n",
        "# Create a list to store the loaded models\n",
        "bnn_models = [cnn_model, resnet_model, vgg_model]\n",
        "\n",
        "# Create a list to store the loaded models\n",
        "bnn_models = [cnn_model, resnet_model, vgg_model]\n",
        "\n",
        "# Create arrays to store the ensemble predictions and true labels\n",
        "ensemble_predictions = np.zeros((num_models, len(X_test)), dtype=np.int64)\n",
        "y_true_labels_bnn = np.argmax(y_test, axis=1)\n",
        "\n",
        "# Bootstrap loop\n",
        "for i in range(num_models):\n",
        "    # Bootstrap sample the training data\n",
        "    X_train_bootstrap, y_train_bootstrap = resample(X_train, y_train_encoded, replace=True, random_state=i)\n",
        "    \n",
        "    # Randomly select one of the models\n",
        "    bnn_model = np.random.choice(models)\n",
        "    \n",
        "    # Make predictions on the test data\n",
        "    y_pred_bnn = bnn_model.predict(X_test)\n",
        "    ensemble_predictions[i] = np.argmax(y_pred, axis=1)\n",
        "\n",
        "# Majority voting for classification\n",
        "ensemble_predictions = np.apply_along_axis(lambda x: np.argmax(np.bincount(x)), axis=0, arr=ensemble_predictions)\n",
        "\n"
      ],
      "metadata": {
        "colab": {
          "base_uri": "https://localhost:8080/"
        },
        "id": "4HXzFXA_kQLa",
        "outputId": "fdd1b4b9-1be2-4371-91b9-281fdf827f32"
      },
      "execution_count": null,
      "outputs": [
        {
          "output_type": "stream",
          "name": "stdout",
          "text": [
            "7/7 [==============================] - 1s 98ms/step\n",
            "7/7 [==============================] - 1s 114ms/step\n",
            "7/7 [==============================] - 1s 91ms/step\n"
          ]
        }
      ]
    },
    {
      "cell_type": "code",
      "source": [
        "# Calculate evaluation metrics\n",
        "accuracy = accuracy_score(y_true_labels_bnn, ensemble_predictions)\n",
        "precision = precision_score(y_true_labels_bnn, ensemble_predictions, average='macro')\n",
        "recall = recall_score(y_true_labels_bnn, ensemble_predictions, average='macro')\n",
        "f1 = f1_score(y_true_labels_bnn, ensemble_predictions, average='macro')\n",
        "\n",
        "print(\"Accuracy:\", accuracy)\n",
        "print(\"Precision:\", precision)\n",
        "print(\"Recall:\", recall)\n",
        "print(\"F1-score:\", f1)"
      ],
      "metadata": {
        "colab": {
          "base_uri": "https://localhost:8080/"
        },
        "id": "QsPt5DdRn11R",
        "outputId": "4507f6ed-a3d7-4fae-8c96-1451af838235"
      },
      "execution_count": null,
      "outputs": [
        {
          "output_type": "stream",
          "name": "stdout",
          "text": [
            "Accuracy: 0.995475113122172\n",
            "Precision: 0.9969135802469135\n",
            "Recall: 0.9966666666666667\n",
            "F1-score: 0.9967745705270539\n"
          ]
        }
      ]
    },
    {
      "cell_type": "code",
      "source": [
        "\n",
        "# Compute the confusion matrix\n",
        "cm = confusion_matrix(y_true_labels_bnn, ensemble_predictions)\n",
        "\n",
        "# Plot the confusion matrix\n",
        "plt.figure(figsize=(8, 6))\n",
        "sns.heatmap(cm, annot=True, fmt='d', cmap='Blues')\n",
        "plt.title('Confusion Matrix - BNN')\n",
        "plt.xlabel('Predicted Labels')\n",
        "plt.ylabel('True Labels')\n",
        "plt.show()"
      ],
      "metadata": {
        "colab": {
          "base_uri": "https://localhost:8080/",
          "height": 564
        },
        "id": "4wZjoe0UtAKQ",
        "outputId": "63cb6d2d-914f-49b0-b984-3bd0e0d688a1"
      },
      "execution_count": null,
      "outputs": [
        {
          "output_type": "display_data",
          "data": {
            "text/plain": [
              "<Figure size 800x600 with 2 Axes>"
            ],
            "image/png": "[encoded data removed]"
          },
          "metadata": {}
        }
      ]
    }
  ]
}